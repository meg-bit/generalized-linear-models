{
 "cells": [
  {
   "cell_type": "markdown",
   "id": "0ff7871d",
   "metadata": {},
   "source": [
    "This is to predict the office occupancy using a list of predictors."
   ]
  },
  {
   "cell_type": "code",
   "execution_count": 1,
   "id": "5873fdea",
   "metadata": {},
   "outputs": [],
   "source": [
    "# library(RCurl)\n",
    "# library(ggplot2)"
   ]
  },
  {
   "cell_type": "code",
   "execution_count": 2,
   "id": "691fdf30",
   "metadata": {},
   "outputs": [
    {
     "data": {
      "text/html": [
       "<table class=\"dataframe\">\n",
       "<caption>A data.frame: 2 × 7</caption>\n",
       "<thead>\n",
       "\t<tr><th></th><th scope=col>date</th><th scope=col>Temperature</th><th scope=col>Humidity</th><th scope=col>Light</th><th scope=col>CO2</th><th scope=col>HumidityRatio</th><th scope=col>Occupancy</th></tr>\n",
       "\t<tr><th></th><th scope=col>&lt;chr&gt;</th><th scope=col>&lt;dbl&gt;</th><th scope=col>&lt;dbl&gt;</th><th scope=col>&lt;dbl&gt;</th><th scope=col>&lt;dbl&gt;</th><th scope=col>&lt;dbl&gt;</th><th scope=col>&lt;int&gt;</th></tr>\n",
       "</thead>\n",
       "<tbody>\n",
       "\t<tr><th scope=row>140</th><td>2015-02-02 14:19:00</td><td>23.700</td><td>26.272</td><td>585.2</td><td>749.2</td><td>0.004764163</td><td>1</td></tr>\n",
       "\t<tr><th scope=row>141</th><td>2015-02-02 14:19:59</td><td>23.718</td><td>26.290</td><td>578.4</td><td>760.4</td><td>0.004772661</td><td>1</td></tr>\n",
       "</tbody>\n",
       "</table>\n"
      ],
      "text/latex": [
       "A data.frame: 2 × 7\n",
       "\\begin{tabular}{r|lllllll}\n",
       "  & date & Temperature & Humidity & Light & CO2 & HumidityRatio & Occupancy\\\\\n",
       "  & <chr> & <dbl> & <dbl> & <dbl> & <dbl> & <dbl> & <int>\\\\\n",
       "\\hline\n",
       "\t140 & 2015-02-02 14:19:00 & 23.700 & 26.272 & 585.2 & 749.2 & 0.004764163 & 1\\\\\n",
       "\t141 & 2015-02-02 14:19:59 & 23.718 & 26.290 & 578.4 & 760.4 & 0.004772661 & 1\\\\\n",
       "\\end{tabular}\n"
      ],
      "text/markdown": [
       "\n",
       "A data.frame: 2 × 7\n",
       "\n",
       "| <!--/--> | date &lt;chr&gt; | Temperature &lt;dbl&gt; | Humidity &lt;dbl&gt; | Light &lt;dbl&gt; | CO2 &lt;dbl&gt; | HumidityRatio &lt;dbl&gt; | Occupancy &lt;int&gt; |\n",
       "|---|---|---|---|---|---|---|---|\n",
       "| 140 | 2015-02-02 14:19:00 | 23.700 | 26.272 | 585.2 | 749.2 | 0.004764163 | 1 |\n",
       "| 141 | 2015-02-02 14:19:59 | 23.718 | 26.290 | 578.4 | 760.4 | 0.004772661 | 1 |\n",
       "\n"
      ],
      "text/plain": [
       "    date                Temperature Humidity Light CO2   HumidityRatio\n",
       "140 2015-02-02 14:19:00 23.700      26.272   585.2 749.2 0.004764163  \n",
       "141 2015-02-02 14:19:59 23.718      26.290   578.4 760.4 0.004772661  \n",
       "    Occupancy\n",
       "140 1        \n",
       "141 1        "
      ]
     },
     "metadata": {},
     "output_type": "display_data"
    },
    {
     "data": {
      "text/plain": [
       "     date            Temperature       Humidity         Light       \n",
       " Length:2665        Min.   :20.20   Min.   :22.10   Min.   :   0.0  \n",
       " Class :character   1st Qu.:20.65   1st Qu.:23.26   1st Qu.:   0.0  \n",
       " Mode  :character   Median :20.89   Median :25.00   Median :   0.0  \n",
       "                    Mean   :21.43   Mean   :25.35   Mean   : 193.2  \n",
       "                    3rd Qu.:22.36   3rd Qu.:26.86   3rd Qu.: 442.5  \n",
       "                    Max.   :24.41   Max.   :31.47   Max.   :1697.2  \n",
       "      CO2         HumidityRatio        Occupancy     \n",
       " Min.   : 427.5   Min.   :0.003303   Min.   :0.0000  \n",
       " 1st Qu.: 466.0   1st Qu.:0.003529   1st Qu.:0.0000  \n",
       " Median : 580.5   Median :0.003815   Median :0.0000  \n",
       " Mean   : 717.9   Mean   :0.004027   Mean   :0.3647  \n",
       " 3rd Qu.: 956.3   3rd Qu.:0.004532   3rd Qu.:1.0000  \n",
       " Max.   :1402.2   Max.   :0.005378   Max.   :1.0000  "
      ]
     },
     "metadata": {},
     "output_type": "display_data"
    }
   ],
   "source": [
    "# url <- getURL('https://raw.githubusercontent.com/LuisM78/Occupancy-detection-data/master/datatest.txt')\n",
    "# occ <- read.csv(text = url)\n",
    "occ <- read.csv('./data/datatest.txt')\n",
    "head(occ, 2)\n",
    "summary(occ)"
   ]
  },
  {
   "cell_type": "code",
   "execution_count": 3,
   "id": "8bc249c8",
   "metadata": {},
   "outputs": [],
   "source": [
    "glmod <- glm(Occupancy ~ Temperature\n",
    "            + Humidity\n",
    "            + Light\n",
    "            + CO2, \n",
    "            data = occ, family = \"binomial\")"
   ]
  },
  {
   "cell_type": "code",
   "execution_count": 4,
   "id": "9dcda3ca",
   "metadata": {},
   "outputs": [
    {
     "data": {
      "text/plain": [
       "\n",
       "Call:\n",
       "glm(formula = Occupancy ~ Temperature + Humidity + Light + CO2, \n",
       "    family = \"binomial\", data = occ)\n",
       "\n",
       "Deviance Residuals: \n",
       "    Min       1Q   Median       3Q      Max  \n",
       "-3.4969  -0.0624  -0.0179   0.1038   2.6544  \n",
       "\n",
       "Coefficients:\n",
       "              Estimate Std. Error z value Pr(>|z|)    \n",
       "(Intercept) -29.316563  11.038232  -2.656  0.00791 ** \n",
       "Temperature  -0.333612   0.318492  -1.047  0.29488    \n",
       "Humidity      1.353727   0.298368   4.537  5.7e-06 ***\n",
       "Light         0.021921   0.001586  13.819  < 2e-16 ***\n",
       "CO2          -0.006839   0.003257  -2.099  0.03578 *  \n",
       "---\n",
       "Signif. codes:  0 '***' 0.001 '**' 0.01 '*' 0.05 '.' 0.1 ' ' 1\n",
       "\n",
       "(Dispersion parameter for binomial family taken to be 1)\n",
       "\n",
       "    Null deviance: 3496.96  on 2664  degrees of freedom\n",
       "Residual deviance:  375.66  on 2660  degrees of freedom\n",
       "AIC: 385.66\n",
       "\n",
       "Number of Fisher Scoring iterations: 9\n"
      ]
     },
     "metadata": {},
     "output_type": "display_data"
    }
   ],
   "source": [
    "summary(glmod)"
   ]
  }
 ],
 "metadata": {
  "kernelspec": {
   "display_name": "R",
   "language": "R",
   "name": "ir"
  },
  "language_info": {
   "codemirror_mode": "r",
   "file_extension": ".r",
   "mimetype": "text/x-r-source",
   "name": "R",
   "pygments_lexer": "r",
   "version": "4.1.2"
  }
 },
 "nbformat": 4,
 "nbformat_minor": 5
}
